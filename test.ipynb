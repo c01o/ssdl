{
 "cells": [
  {
   "cell_type": "code",
   "execution_count": 1,
   "metadata": {},
   "outputs": [],
   "source": [
    "import sys\n",
    "sys.path.append('./slideshare-dl')\n",
    "sys.path.append('./lib')\n",
    "\n",
    "\n",
    "from lib.utils import save_metadata\n",
    "from lib.speakerdeck import dl_speakerdeck\n",
    "from lib.slideshare import dl_slideshare\n",
    "from lib.arxiv import dl_arxiv"
   ]
  },
  {
   "cell_type": "code",
   "execution_count": 2,
   "metadata": {},
   "outputs": [],
   "source": [
    "from urllib.parse import urlparse\n",
    "def main(url: str):\n",
    "    match urlparse(url).netloc:\n",
    "        case 'www.slideshare.net':\n",
    "            dl_slideshare(url)\n",
    "        case 'speakerdeck.com':\n",
    "            dl_speakerdeck(url)\n",
    "        case 'arxiv.org':\n",
    "            dl_arxiv(url)"
   ]
  },
  {
   "cell_type": "code",
   "execution_count": 3,
   "metadata": {},
   "outputs": [
    {
     "name": "stdout",
     "output_type": "stream",
     "text": [
      "Fine-grained style control in Transformer-based Text-to-speech Synthesis\n",
      "拡散確率モデルと音声波形生成\n",
      "強化学習の基礎と深層強化学習（東京大学 松尾研究室 深層強化学習サマースクール講義資料） | PPT\n"
     ]
    }
   ],
   "source": [
    "main('https://arxiv.org/abs/2110.06306')\n",
    "#main('https://arxiv.org/pdf/2110.06306.pdf')\n",
    "main('https://speakerdeck.com/yumakoizumi/kuo-san-que-lu-moderutoyin-sheng-bo-xing-sheng-cheng')\n",
    "main('https://www.slideshare.net/ShotaImai3/rlssdeepreinforcementlearning')"
   ]
  },
  {
   "cell_type": "code",
   "execution_count": null,
   "metadata": {},
   "outputs": [],
   "source": []
  }
 ],
 "metadata": {
  "kernelspec": {
   "display_name": "Python 3.10.5 64-bit ('3.10.5')",
   "language": "python",
   "name": "python3"
  },
  "language_info": {
   "codemirror_mode": {
    "name": "ipython",
    "version": 3
   },
   "file_extension": ".py",
   "mimetype": "text/x-python",
   "name": "python",
   "nbconvert_exporter": "python",
   "pygments_lexer": "ipython3",
   "version": "3.12.2"
  },
  "orig_nbformat": 4,
  "vscode": {
   "interpreter": {
    "hash": "cf565933a4511d466fb49a31648cb272a5ef893afda0f55f3811c0c1c7fc7018"
   }
  }
 },
 "nbformat": 4,
 "nbformat_minor": 2
}
